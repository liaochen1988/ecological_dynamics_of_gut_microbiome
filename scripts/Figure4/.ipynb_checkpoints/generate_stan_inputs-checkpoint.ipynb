{
 "cells": [
  {
   "cell_type": "code",
   "execution_count": 1,
   "metadata": {},
   "outputs": [],
   "source": [
    "import pandas as pd\n",
    "import numpy as np\n",
    "from copy import deepcopy\n",
    "from glv_inference import compute_ddt_log_phi, generate_XY_matrics, write_stan_input_file, parse_stan_output"
   ]
  },
  {
   "cell_type": "markdown",
   "metadata": {},
   "source": [
    "# Generate input files for Stan program (mouse experiments under inulin intervention)"
   ]
  },
  {
   "cell_type": "code",
   "execution_count": 2,
   "metadata": {},
   "outputs": [],
   "source": [
    "# load meta data\n",
    "df_meta = pd.read_csv('meta_data.csv').drop(['Vendor','RandomizedGroup'], axis=1)\n",
    "df_meta.columns = ['sample_id','subject_id','time_point','group']\n",
    "df_meta = df_meta.set_index('sample_id')\n",
    "\n",
    "for seq in ['species','otu']:\n",
    "\n",
    "    # load species or otu abundance data\n",
    "    df_abun = pd.read_csv(\"quantitative_abundance_%s.csv\"%(seq), index_col=0)\n",
    "    \n",
    "    # stan program does not allow special characters\n",
    "    df_abun.columns = [c.replace('/','_slash_').replace(' ','_space_').replace('[','_leftsquarebracket_').replace(']','_rightsquarebracket_').replace('-','_dash_').replace('.','_dot_').replace('(','_leftroundbracket').replace(')','_rightroundbracket_') for c in df_abun.columns]\n",
    "\n",
    "    # compute log-derivatives\n",
    "    df_output = compute_ddt_log_phi(df_meta[(df_meta.group == 'Control') | (df_meta.group == 'Inulin')], df_abun)\n",
    "    \n",
    "    # construct X and Y matrices in regression\n",
    "    Xmat, Ymat, simulated_samples, simulated_taxa, simulated_groups = generate_XY_matrics(df_output, reference_group='Control')\n",
    "    \n",
    "    # write to files\n",
    "    prefix = 'inulin_'+seq\n",
    "    write_stan_input_file(prefix, prefix, Xmat, Ymat, simulated_taxa, simulated_groups)"
   ]
  },
  {
   "cell_type": "code",
   "execution_count": null,
   "metadata": {},
   "outputs": [],
   "source": []
  }
 ],
 "metadata": {
  "kernelspec": {
   "display_name": "Python 3 (ipykernel)",
   "language": "python",
   "name": "python3"
  },
  "language_info": {
   "codemirror_mode": {
    "name": "ipython",
    "version": 3
   },
   "file_extension": ".py",
   "mimetype": "text/x-python",
   "name": "python",
   "nbconvert_exporter": "python",
   "pygments_lexer": "ipython3",
   "version": "3.9.7"
  }
 },
 "nbformat": 4,
 "nbformat_minor": 4
}
